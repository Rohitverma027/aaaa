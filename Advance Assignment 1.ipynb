{
 "cells": [
  {
   "cell_type": "code",
   "execution_count": 2,
   "id": "7f360377",
   "metadata": {},
   "outputs": [],
   "source": [
    "1 OOP purpose is to implement real-world entities like inheritnce,polymorphism etc in programming. The main aim of OOP is to\n",
    "  bind together th together the data and functions that operate on them so that no other part of code can access this except \n",
    "  that function. "
   ]
  },
  {
   "cell_type": "code",
   "execution_count": 3,
   "id": "9cd88017",
   "metadata": {},
   "outputs": [],
   "source": [
    "#2 An inheritance search starts to look for an attribte first from base class"
   ]
  },
  {
   "cell_type": "code",
   "execution_count": 5,
   "id": "926dd1e1",
   "metadata": {},
   "outputs": [],
   "source": [
    "#3 A Class is a code template which is used to create obejcts and these objects have defined attributes and these attributes are\n",
    "#  instance objects."
   ]
  },
  {
   "cell_type": "code",
   "execution_count": 6,
   "id": "b4630d4e",
   "metadata": {},
   "outputs": [],
   "source": [
    "#4 The calling process is automatic while the receiving process is not (its explicit). This is the reason the first parameter \n",
    "#  of a function in class must be the object itself. Writing this parameter as self is merely a convention."
   ]
  },
  {
   "cell_type": "code",
   "execution_count": 7,
   "id": "3e360518",
   "metadata": {},
   "outputs": [],
   "source": [
    "#5 The purpose of __init__ is to initialize every object state."
   ]
  },
  {
   "cell_type": "code",
   "execution_count": 9,
   "id": "78655b9d",
   "metadata": {},
   "outputs": [
    {
     "name": "stdout",
     "output_type": "stream",
     "text": [
      "Manchester United is a Premier league team and this league matches are played in England \n"
     ]
    }
   ],
   "source": [
    "#6 \n",
    "class Leagues:\n",
    "    def __init__(self,name_of_league,club_name,country):\n",
    "        self.name_of_league = name_of_league\n",
    "        self.club_name = club_name\n",
    "        self.country = country\n",
    "    def __str__(self):\n",
    "        return \"%s is a %s team and this league matches are played in %s \" %(self.club_name, self.name_of_league, self.country)\n",
    "Manchester_United = Leagues('Premier league', 'Manchester United','England')\n",
    "print(Manchester_United)"
   ]
  },
  {
   "cell_type": "code",
   "execution_count": 10,
   "id": "803ec045",
   "metadata": {},
   "outputs": [],
   "source": [
    "#7 BY using keyword class followed by class name \n",
    "class Person:\n",
    "    pass\n"
   ]
  },
  {
   "cell_type": "code",
   "execution_count": 11,
   "id": "8826ed0a",
   "metadata": {},
   "outputs": [],
   "source": [
    "#8 A superclass which is also known as parent class or base class is a class from which many subclass are created and the \n",
    "#  subclass inherits characteristics from superclass. "
   ]
  },
  {
   "cell_type": "code",
   "execution_count": null,
   "id": "b84c1377",
   "metadata": {},
   "outputs": [],
   "source": []
  }
 ],
 "metadata": {
  "kernelspec": {
   "display_name": "Python 3",
   "language": "python",
   "name": "python3"
  },
  "language_info": {
   "codemirror_mode": {
    "name": "ipython",
    "version": 3
   },
   "file_extension": ".py",
   "mimetype": "text/x-python",
   "name": "python",
   "nbconvert_exporter": "python",
   "pygments_lexer": "ipython3",
   "version": "3.8.8"
  }
 },
 "nbformat": 4,
 "nbformat_minor": 5
}
