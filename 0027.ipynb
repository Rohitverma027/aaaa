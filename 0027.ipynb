{
 "cells": [
  {
   "cell_type": "markdown",
   "id": "1401e7a2",
   "metadata": {},
   "source": [
    "A Python class is like an outline/blueprint/mold for creating a new object. An object is anything that you wish to        manipulate or change while working through the code. Every time a class object is instantiated, which is when we declare a variable, a new object is initiated from scratch Whereas in Python, Modules are simply files with the . py extension containing Python code that can be imported inside another Python Program. In simple terms, we can consider a module to be the same as a code library or a file that contains a set of functions/Classes that you want to include in your application."
   ]
  },
  {
   "cell_type": "markdown",
   "id": "5391fa3e",
   "metadata": {},
   "source": [
    "1. Classes are for coupling You still turn functionality. You have got some data and some actions you would like to perform on that data you want to bundle those two concepts together. That's what a class is for in Python Whereas in Python, Modules are simply files with the . py extension containing Python code that can be imported inside another Python Program. In simple terms, we can consider a module to be the same as a code library or a file that contains a set of functions/Classes that you want to include in your application."
   ]
  },
  {
   "cell_type": "code",
   "execution_count": 8,
   "id": "7e1d9271",
   "metadata": {},
   "outputs": [
    {
     "name": "stdout",
     "output_type": "stream",
     "text": [
      "football\n"
     ]
    }
   ],
   "source": [
    "#2\n",
    "class sports:\n",
    "    def __init__(self,sports_name,No_of_players,playing_field):\n",
    "        self.sports_name=sports_name\n",
    "        self.No_of_players=No_of_players\n",
    "        self.playing_field=playing_field\n",
    "    \n",
    "football = sports('football',11,'cricket field')\n",
    "print(football.sports_name)\n",
    "    \n"
   ]
  },
  {
   "cell_type": "code",
   "execution_count": 10,
   "id": "d0b603c1",
   "metadata": {},
   "outputs": [
    {
     "data": {
      "text/plain": [
       "'apple'"
      ]
     },
     "execution_count": 10,
     "metadata": {},
     "output_type": "execute_result"
    }
   ],
   "source": [
    "#3 Class attributes are attributes which are owned by class itself. They are shared by all instances of classes that's why all instances will have same value.\n",
    "\n",
    "class E:\n",
    "    a = 'apple'\n",
    "\n",
    "x = E()\n",
    "y = E()\n",
    "x.a"
   ]
  },
  {
   "cell_type": "code",
   "execution_count": 11,
   "id": "0b983246",
   "metadata": {},
   "outputs": [
    {
     "data": {
      "text/plain": [
       "'apple'"
      ]
     },
     "execution_count": 11,
     "metadata": {},
     "output_type": "execute_result"
    }
   ],
   "source": [
    "y.a"
   ]
  },
  {
   "cell_type": "code",
   "execution_count": 13,
   "id": "b4568cad",
   "metadata": {},
   "outputs": [],
   "source": [
    "#4 Instance attribute is defined inside a constructor using the self parameter. It is specific to object.\n",
    "class q:\n",
    "    def __init__(self,a,b,c)  # here a,b,c are instance attributes \n"
   ]
  },
  {
   "cell_type": "code",
   "execution_count": 14,
   "id": "530b8ca9",
   "metadata": {},
   "outputs": [],
   "source": [
    "#5 The self parameter is a reference to the current instance of the class, and is used to access variables that belongs to the class. "
   ]
  },
  {
   "cell_type": "code",
   "execution_count": 15,
   "id": "5c9e9ac5",
   "metadata": {},
   "outputs": [
    {
     "name": "stdout",
     "output_type": "stream",
     "text": [
      "3\n",
      "TransFormer\n"
     ]
    }
   ],
   "source": [
    "#6 To perform operator overriding, Python provides some special function or magic function that is automatically invoked when it is associated with that particular operator. For example, when we use plus operator, the magic method__add__is automatically invoked in which the operation for plus operation is defined.\n",
    "# Python Program illustrate how\n",
    "# to overload an binary + operator\n",
    "\n",
    "class L:\n",
    "    def __init__(self,l):\n",
    "        self.l = l\n",
    "    def __add__(self,k):\n",
    "        return self.l + k.l\n",
    "ob1 = L(1)\n",
    "ob2 = L(2)\n",
    "ob3 = L(\"Trans\")\n",
    "ob4 = L(\"Former\")\n",
    "\n",
    "print(ob1 + ob2)\n",
    "print(ob3 + ob4)\n"
   ]
  },
  {
   "cell_type": "code",
   "execution_count": 16,
   "id": "8cab6052",
   "metadata": {},
   "outputs": [],
   "source": [
    "#7 When you have to perform certain arthematic, comparison, logical etc tasks ."
   ]
  },
  {
   "cell_type": "code",
   "execution_count": 17,
   "id": "aeadc916",
   "metadata": {},
   "outputs": [],
   "source": [
    "#8 Most popular operator is '+' operator."
   ]
  },
  {
   "cell_type": "code",
   "execution_count": null,
   "id": "ce2b93af",
   "metadata": {},
   "outputs": [],
   "source": [
    "#9 The 2 most importand concepts are inheritance and polymorphism.\n",
    "# Inheritance comes with great flexibility.\n",
    "# Polymorphism lets us define methods in the child class that have the same name as the methods in the parent class."
   ]
  }
 ],
 "metadata": {
  "kernelspec": {
   "display_name": "Python 3",
   "language": "python",
   "name": "python3"
  },
  "language_info": {
   "codemirror_mode": {
    "name": "ipython",
    "version": 3
   },
   "file_extension": ".py",
   "mimetype": "text/x-python",
   "name": "python",
   "nbconvert_exporter": "python",
   "pygments_lexer": "ipython3",
   "version": "3.8.8"
  }
 },
 "nbformat": 4,
 "nbformat_minor": 5
}
